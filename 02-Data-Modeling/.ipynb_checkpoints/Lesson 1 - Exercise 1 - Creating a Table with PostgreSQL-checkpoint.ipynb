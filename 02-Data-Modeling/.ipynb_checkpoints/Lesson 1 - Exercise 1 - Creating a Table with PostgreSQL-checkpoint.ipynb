{
 "cells": [
  {
   "cell_type": "markdown",
   "metadata": {},
   "source": [
    "## Lesson 1 - Exercise 1 - Creating a Table with PostgreSQL\n",
    "\n",
    "### Walk through the basics of PostgreSQL\n",
    "\n",
    "    1.Create a table in PostgreSQL,\n",
    "    2.Insert rows of data\n",
    "    3.Run a simple SQL query to validate the information\n",
    "    \n",
    "Note: Code run locally"
   ]
  },
  {
   "cell_type": "code",
   "execution_count": null,
   "metadata": {},
   "outputs": [],
   "source": [
    "import psycopg2"
   ]
  },
  {
   "cell_type": "markdown",
   "metadata": {},
   "source": [
    "### Create a Connection to the Database"
   ]
  },
  {
   "cell_type": "code",
   "execution_count": 2,
   "metadata": {},
   "outputs": [],
   "source": [
    "try: \n",
    "    conn = psycopg2.connect(\"host=127.0.0.1 dbname=studentdb user=janfrodeno\")\n",
    "except psycopg2.Error as e: \n",
    "    print(\"Error: Could not make connection to the Postgres database\")\n",
    "    print(e)"
   ]
  },
  {
   "cell_type": "markdown",
   "metadata": {},
   "source": [
    "### Use the connection to get a cursor that can be used to execute queries."
   ]
  },
  {
   "cell_type": "code",
   "execution_count": 3,
   "metadata": {},
   "outputs": [],
   "source": [
    "try: \n",
    "    cur = conn.cursor()\n",
    "except psycopg2.Error as e: \n",
    "    print(\"Error: Could not create cursor\")\n",
    "    print(e)"
   ]
  },
  {
   "cell_type": "markdown",
   "metadata": {},
   "source": [
    "### Set automatic commit to be true so that each action is committed without having to call conn.commit() after each command"
   ]
  },
  {
   "cell_type": "code",
   "execution_count": 5,
   "metadata": {},
   "outputs": [],
   "source": [
    "# TO-DO: set automatic commit to be true\n",
    "conn.set_session(autocommit=True)"
   ]
  },
  {
   "cell_type": "markdown",
   "metadata": {},
   "source": [
    "### Create a database to do the work in."
   ]
  },
  {
   "cell_type": "code",
   "execution_count": 6,
   "metadata": {},
   "outputs": [],
   "source": [
    "## TO-DO: Add the database name within the CREATE DATABASE statement. You can choose your own db name\n",
    "try:\n",
    "    cur.execute(\"CREATE DATABASE ironman\")\n",
    "except psycopg2.Error as e: \n",
    "    print(e)"
   ]
  },
  {
   "cell_type": "markdown",
   "metadata": {},
   "source": [
    "### Add the database name in the connect statement. Let's close our connection to the default database, reconnect to the Udacity database, and get a new cursor"
   ]
  },
  {
   "cell_type": "code",
   "execution_count": 7,
   "metadata": {},
   "outputs": [],
   "source": [
    "try:\n",
    "    conn.close()\n",
    "except psycopg2.Error as e: \n",
    "    print(e)"
   ]
  },
  {
   "cell_type": "code",
   "execution_count": null,
   "metadata": {},
   "outputs": [],
   "source": [
    "try: \n",
    "    conn = psycopg2.connect(\"host=127.0.0.1 dbname=ironman user=janfrodeno\")\n",
    "except psycopg2.Error as e: \n",
    "    print(\"Error: Could not make connection to the Postgres database\")\n",
    "    print(e)\n",
    "    \n",
    "try: \n",
    "    cur = conn.cursor()\n",
    "except psycopg2.Error as e: \n",
    "    print(\"Error: Could not create cursor\")\n",
    "    print(e)\n",
    "    \n",
    "conn.set_session(autocommit=True)\n",
    "    "
   ]
  },
  {
   "cell_type": "markdown",
   "metadata": {},
   "source": [
    "###  Create a Song Library that contains a list of songs, including the song name, artist name, year, album it was from, and if it was a single"
   ]
  },
  {
   "cell_type": "code",
   "execution_count": 9,
   "metadata": {},
   "outputs": [],
   "source": [
    "try:\n",
    "    cur.execute(\"\"\"\n",
    "    CREATE TABLE IF NOT EXISTS song_library\n",
    "    (song_title varchar, artist varchar, year int, album varchar, single Boolean);\n",
    "    \"\"\")\n",
    "except psycopg2.Error as e: \n",
    "    print(e)\n",
    "    "
   ]
  },
  {
   "cell_type": "markdown",
   "metadata": {},
   "source": [
    "### Insert the following two rows in the table\n",
    "\n",
    "First Row:  \"Across The Universe\", \"The Beatles\", \"1970\", \"False\", \"Let It Be\"\n",
    "\n",
    "Second Row: \"The Beatles\", \"Think For Yourself\", \"False\", \"1965\", \"Rubber Soul\""
   ]
  },
  {
   "cell_type": "code",
   "execution_count": 12,
   "metadata": {},
   "outputs": [],
   "source": [
    "insert_rows = [(\"Accros The Universe\", \"The Beatles\", \"1970\", \"False\", \"Let It Be\"),\n",
    "               (\"Think For Yourself\", \"The Beatles\", \"1970\", \"False\", \"Rubber Soul\")\n",
    "              ]\n",
    "\n",
    "for row in insert_rows:\n",
    "    try:\n",
    "        cur.execute(\"\"\"\n",
    "        INSERT INTO song_library (song_title, artist, year, single, album)\n",
    "        VALUES (%s, %s, %s, %s, %s);\n",
    "        \"\"\", row)\n",
    "    except psycopg2.Error as e: \n",
    "        print(e)"
   ]
  },
  {
   "cell_type": "markdown",
   "metadata": {},
   "source": [
    "### Validate your data was inserted into the table."
   ]
  },
  {
   "cell_type": "code",
   "execution_count": 13,
   "metadata": {},
   "outputs": [
    {
     "name": "stdout",
     "output_type": "stream",
     "text": [
      "[('Accros The Universe', 'The Beatles', 1970, 'Let It Be', False), ('Think For Yourself', 'The Beatles', 1970, 'Rubber Soul', False)]\n"
     ]
    }
   ],
   "source": [
    "try:\n",
    "    cur.execute(\"select * from song_library\")\n",
    "    print(cur.fetchall())\n",
    "except psycopg2.Error as e:\n",
    "    print(e)"
   ]
  },
  {
   "cell_type": "code",
   "execution_count": 14,
   "metadata": {},
   "outputs": [
    {
     "name": "stdout",
     "output_type": "stream",
     "text": [
      "('Accros The Universe', 'The Beatles', 1970, 'Let It Be', False)\n",
      "('Think For Yourself', 'The Beatles', 1970, 'Rubber Soul', False)\n"
     ]
    }
   ],
   "source": [
    "try:\n",
    "    cur.execute(\"select * from song_library\")\n",
    "except psycopg2.Error as e:\n",
    "    print(e)\n",
    "    \n",
    "row = cur.fetchone()\n",
    "while row:\n",
    "    print(row)\n",
    "    row = cur.fetchone()"
   ]
  },
  {
   "cell_type": "markdown",
   "metadata": {},
   "source": [
    "### And finally close your cursor and connection."
   ]
  },
  {
   "cell_type": "code",
   "execution_count": null,
   "metadata": {},
   "outputs": [],
   "source": [
    "cur.close()\n",
    "conn.close()"
   ]
  }
 ],
 "metadata": {
  "kernelspec": {
   "display_name": "Python 3",
   "language": "python",
   "name": "python3"
  },
  "language_info": {
   "codemirror_mode": {
    "name": "ipython",
    "version": 3
   },
   "file_extension": ".py",
   "mimetype": "text/x-python",
   "name": "python",
   "nbconvert_exporter": "python",
   "pygments_lexer": "ipython3",
   "version": "3.8.3"
  }
 },
 "nbformat": 4,
 "nbformat_minor": 4
}
